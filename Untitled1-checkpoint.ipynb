{
 "cells": [
  {
   "cell_type": "code",
   "execution_count": 1,
   "id": "78b236a2",
   "metadata": {},
   "outputs": [],
   "source": [
    "# importing library\n",
    "from tkinter import * \n",
    "from tkinter import messagebox\n",
    "import numpy as np \n",
    "import pandas as pd"
   ]
  },
  {
   "cell_type": "markdown",
   "id": "3506dc0e",
   "metadata": {},
   "source": [
    "# l1 contain all the symptoms "
   ]
  },
  {
   "cell_type": "code",
   "execution_count": 2,
   "id": "b9e3fce4",
   "metadata": {},
   "outputs": [],
   "source": [
    "l1=['itching','skin_rash','nodal_skin_eruptions','continuous_sneezing','shivering','chills','joint_pain',\n",
    "    'stomach_pain','acidity','ulcers_on_tongue','muscle_wasting','vomiting','burning_micturition','spotting_ urination','fatigue',\n",
    "    'weight_gain','anxiety','cold_hands_and_feets','mood_swings','weight_loss','restlessness','lethargy','patches_in_throat',\n",
    "    'irregular_sugar_level','cough','high_fever','sunken_eyes','breathlessness','sweating','dehydration','indigestion',\n",
    "    'headache','yellowish_skin','dark_urine','nausea','loss_of_appetite','pain_behind_the_eyes','back_pain','constipation',\n",
    "    'abdominal_pain','diarrhoea','mild_fever','yellow_urine','yellowing_of_eyes','acute_liver_failure','fluid_overload',\n",
    "    'swelling_of_stomach','swelled_lymph_nodes','malaise','blurred_and_distorted_vision','phlegm','throat_irritation',\n",
    "    'redness_of_eyes','sinus_pressure','runny_nose','congestion','chest_pain','weakness_in_limbs','fast_heart_rate',\n",
    "    'pain_during_bowel_movements','pain_in_anal_region','bloody_stool','irritation_in_anus','neck_pain','dizziness','cramps',\n",
    "    'bruising','obesity','swollen_legs','swollen_blood_vessels','puffy_face_and_eyes','enlarged_thyroid','brittle_nails',\n",
    "    'swollen_extremeties','excessive_hunger','extra_marital_contacts','drying_and_tingling_lips','slurred_speech','knee_pain','hip_joint_pain',\n",
    "    'muscle_weakness','stiff_neck','swelling_joints','movement_stiffness','spinning_movements','loss_of_balance','unsteadiness','weakness_of_one_body_side',\n",
    "    'loss_of_smell','bladder_discomfort','foul_smell_of urine','continuous_feel_of_urine','passage_of_gases','internal_itching','toxic_look_(typhos)',\n",
    "    'depression','irritability','muscle_pain','altered_sensorium','red_spots_over_body','belly_pain','abnormal_menstruation','dischromic _patches',\n",
    "    'watering_from_eyes','increased_appetite','polyuria','family_history','mucoid_sputum','rusty_sputum','lack_of_concentration','visual_disturbances',\n",
    "    'receiving_blood_transfusion','receiving_unsterile_injections','coma','stomach_bleeding','distention_of_abdomen','history_of_alcohol_consumption',\n",
    "    'fluid_overload','blood_in_sputum','prominent_veins_on_calf','palpitations','painful_walking','pus_filled_pimples','blackheads','scurring','skin_peeling',\n",
    "    'silver_like_dusting','small_dents_in_nails','inflammatory_nails','blister','red_sore_around_nose','yellow_crust_ooze']\n"
   ]
  },
  {
   "cell_type": "markdown",
   "id": "40d012e9",
   "metadata": {},
   "source": [
    "# It contain all the disease total 41 disease "
   ]
  },
  {
   "cell_type": "code",
   "execution_count": 3,
   "id": "8f1f9078",
   "metadata": {},
   "outputs": [],
   "source": [
    "disease=['Fungal infection','Allergy','GERD','Chronic cholestasis','Drug Reaction',\n",
    "        'Peptic ulcer diseae','AIDS','Diabetes','Gastroenteritis','Bronchial Asthma','Hypertension',\n",
    "        ' Migraine','Cervical spondylosis',\n",
    "        'Paralysis (brain hemorrhage)','Jaundice','Malaria','Chicken pox','Dengue','Typhoid','hepatitis A',\n",
    "'Hepatitis B','Hepatitis C','Hepatitis D','Hepatitis E','Alcoholic hepatitis','Tuberculosis',\n",
    "'Common Cold','Pneumonia','Dimorphic hemmorhoids(piles)',\n",
    "'Heartattack','Varicoseveins','Hypothyroidism','Hyperthyroidism','Hypoglycemia','Osteoarthristis',\n",
    "'Arthritis','(vertigo) Paroymsal  Positional Vertigo','Acne','Urinary tract infection','Psoriasis',\n",
    "'Impetigo']"
   ]
  },
  {
   "cell_type": "markdown",
   "id": "db32c586",
   "metadata": {},
   "source": [
    "# l2 list are empty "
   ]
  },
  {
   "cell_type": "code",
   "execution_count": 4,
   "id": "09c2ce73",
   "metadata": {},
   "outputs": [],
   "source": [
    "l2=[]\n",
    "for x in range(0,len(l1)):\n",
    "    l2.append(0)\n"
   ]
  },
  {
   "cell_type": "markdown",
   "id": "0c17ef73",
   "metadata": {},
   "source": [
    "# TESTING DATA"
   ]
  },
  {
   "cell_type": "code",
   "execution_count": 5,
   "id": "b21ed762",
   "metadata": {},
   "outputs": [],
   "source": [
    "tr=pd.read_csv(\"Testing.csv\")\n",
    "tr.replace({'prognosis':{'Fungal infection':0,'Allergy':1,'GERD':2,'Chronic cholestasis':3,'Drug Reaction':4,\n",
    "'Peptic ulcer diseae':5,'AIDS':6,'Diabetes ':7,'Gastroenteritis':8,'Bronchial Asthma':9,'Hypertension ':10,\n",
    "'Migraine':11,'Cervical spondylosis':12,\n",
    "'Paralysis (brain hemorrhage)':13,'Jaundice':14,'Malaria':15,'Chicken pox':16,'Dengue':17,'Typhoid':18,'hepatitis A':19,\n",
    "'Hepatitis B':20,'Hepatitis C':21,'Hepatitis D':22,'Hepatitis E':23,'Alcoholic hepatitis':24,'Tuberculosis':25,\n",
    "'Common Cold':26,'Pneumonia':27,'Dimorphic hemmorhoids(piles)':28,'Heart attack':29,'Varicose veins':30,'Hypothyroidism':31,\n",
    "'Hyperthyroidism':32,'Hypoglycemia':33,'Osteoarthristis':34,'Arthritis':35,\n",
    "'(vertigo) Paroymsal  Positional Vertigo':36,'Acne':37,'Urinary tract infection':38,'Psoriasis':39,\n",
    "'Impetigo':40}},inplace=True)\n",
    "X_test= tr[l1] #x_test contain all the symptoms\n",
    "y_test = tr[[\"prognosis\"]] #y_test contain all the disease\n"
   ]
  },
  {
   "cell_type": "markdown",
   "id": "c1c4f0cc",
   "metadata": {},
   "source": [
    "# TRAINING DATA"
   ]
  },
  {
   "cell_type": "code",
   "execution_count": 6,
   "id": "02f3554e",
   "metadata": {},
   "outputs": [],
   "source": [
    "df=pd.read_csv(\"Training.csv\")\n",
    "\n",
    "df.replace({'prognosis':{'Fungal infection':0,'Allergy':1,'GERD':2,'Chronic cholestasis':3,'Drug Reaction':4,\n",
    "'Peptic ulcer diseae':5,'AIDS':6,'Diabetes ':7,'Gastroenteritis':8,'Bronchial Asthma':9,'Hypertension ':10,\n",
    "'Migraine':11,'Cervical spondylosis':12,\n",
    "'Paralysis (brain hemorrhage)':13,'Jaundice':14,'Malaria':15,'Chicken pox':16,'Dengue':17,'Typhoid':18,'hepatitis A':19,\n",
    "'Hepatitis B':20,'Hepatitis C':21,'Hepatitis D':22,'Hepatitis E':23,'Alcoholic hepatitis':24,'Tuberculosis':25,\n",
    "'Common Cold':26,'Pneumonia':27,'Dimorphic hemmorhoids(piles)':28,'Heart attack':29,'Varicose veins':30,'Hypothyroidism':31,\n",
    "'Hyperthyroidism':32,'Hypoglycemia':33,'Osteoarthristis':34,'Arthritis':35,\n",
    "'(vertigo) Paroymsal  Positional Vertigo':36,'Acne':37,'Urinary tract infection':38,'Psoriasis':39,\n",
    "'Impetigo':40}},inplace=True)\n",
    "\n",
    "X= df[l1]\n",
    "\n",
    "y = df[[\"prognosis\"]]\n"
   ]
  },
  {
   "cell_type": "markdown",
   "id": "5b40452d",
   "metadata": {},
   "source": [
    "# Messages funtion "
   ]
  },
  {
   "cell_type": "code",
   "execution_count": 7,
   "id": "532a8bd6",
   "metadata": {},
   "outputs": [],
   "source": [
    "def message():\n",
    "    if (Symptom1.get() == \"None\" and  Symptom2.get() == \"None\" and Symptom3.get() == \"None\" and Symptom4.get() == \"None\" and Symptom5.get() == \"None\"):\n",
    "        messagebox.showinfo(\"OPPS!!\", \"ENTER  SYMPTOMS PLEASE\")\n",
    "    else :\n",
    "        NaiveBayes()"
   ]
  },
  {
   "cell_type": "markdown",
   "id": "bf50a883",
   "metadata": {},
   "source": [
    "# Naivebayes algorithns"
   ]
  },
  {
   "cell_type": "code",
   "execution_count": 8,
   "id": "02b05846",
   "metadata": {},
   "outputs": [],
   "source": [
    "def NaiveBayes():\n",
    "    from sklearn.naive_bayes import MultinomialNB\n",
    "    gnb = MultinomialNB() #create obj gnb\n",
    "    #x->training vector y->targated value\n",
    "    gnb=gnb.fit(X,np.ravel(y)) #use of revel [1,2,3][4,5,6]=[1,2.3.4.5.6]\n",
    "    from sklearn.metrics import accuracy_score\n",
    "    y_pred = gnb.predict(X_test)\n",
    "    print(accuracy_score(y_test, y_pred))#return a float type\n",
    "    print(accuracy_score(y_test, y_pred, normalize=False))\n",
    "\n",
    "    psymptoms = [Symptom1.get(),Symptom2.get(),Symptom3.get(),Symptom4.get(),Symptom5.get()]\n",
    "\n",
    "    for k in range(0,len(l1)):\n",
    "        for z in psymptoms:\n",
    "            if(z==l1[k]):\n",
    "                l2[k]=1\n",
    "\n",
    "    inputtest = [l2] #[0,0,0,1,0,0,1]\n",
    "    predict = gnb.predict(inputtest)\n",
    "    predicted=predict[0]\n",
    " #initialize the string \n",
    "    h='no'\n",
    "    for a in range(0,len(disease)):\n",
    "        if(disease[predicted] == disease[a]):\n",
    "            h='yes'\n",
    "            break\n",
    "\n",
    "    if (h=='yes'):\n",
    "        t3.delete(\"1.0\", END)\n",
    "        t3.insert(END, disease[a])\n",
    "    else:\n",
    "        t3.delete(\"1.0\", END)\n",
    "        t3.insert(END, \"No Disease\")"
   ]
  },
  {
   "cell_type": "markdown",
   "id": "4440d45f",
   "metadata": {},
   "source": [
    "# Funtion to exit the system"
   ]
  },
  {
   "cell_type": "code",
   "execution_count": 9,
   "id": "78571f16",
   "metadata": {},
   "outputs": [],
   "source": [
    "from tkinter import messagebox\n",
    "def Exit():\n",
    "    qExit=messagebox.askyesno(\"System\",\"Do you want to exit the system\")\n",
    "    if qExit:\n",
    "        root.destroy()\n",
    "        exit()"
   ]
  },
  {
   "cell_type": "markdown",
   "id": "6bafc686",
   "metadata": {},
   "source": [
    "# Funtion to restart the symptoms"
   ]
  },
  {
   "cell_type": "code",
   "execution_count": 10,
   "id": "51f7e0bd",
   "metadata": {},
   "outputs": [],
   "source": [
    "prev_win=None\n",
    "def Reset():\n",
    "    global prev_win\n",
    "\n",
    "    Symptom1.set(\"Select Here\")\n",
    "    Symptom2.set(\"Select Here\")\n",
    "    Symptom3.set(\"Select Here\")\n",
    "    Symptom4.set(\"Select Here\")\n",
    "    Symptom5.set(\"Select Here\")\n",
    "    \n",
    "    NameEn.delete(first=0,last=100)\n",
    "    \n",
    "    pred1.set(\" \")\n",
    "    pred2.set(\" \")\n",
    "    pred3.set(\" \")\n",
    "    pred4.set(\" \")\n",
    "    try:\n",
    "        prev_win.destroy()\n",
    "        prev_win=None\n",
    "    except AttributeError:\n",
    "        pass"
   ]
  },
  {
   "cell_type": "markdown",
   "id": "048d2b4f",
   "metadata": {},
   "source": [
    "# Create GUI"
   ]
  },
  {
   "cell_type": "code",
   "execution_count": null,
   "id": "6eb02185",
   "metadata": {},
   "outputs": [],
   "source": [
    "root = Tk()\n",
    "root.geometry(\"100x200\")\n",
    "root.title(\" Disease Prediction From  Symptoms\")\n",
    "root.configure(background='Ivory')\n",
    "#root.configure()\n",
    "\n",
    "Symptom1 = StringVar()\n",
    "Symptom1.set(None)\n",
    "Symptom2 = StringVar()\n",
    "Symptom2.set(None)\n",
    "Symptom3 = StringVar()\n",
    "Symptom3.set(None)\n",
    "Symptom4 = StringVar()\n",
    "Symptom4.set(None)\n",
    "Symptom5 = StringVar()\n",
    "Symptom5.set(None)\n",
    "\n",
    "w2 = Label(root, justify=LEFT, text=\" Disease Prediction From Symptoms \")\n",
    "w2.config(font=(\"Elephant\", 30))\n",
    "w2.grid(row=2, column=2, columnspan=30, padx=100)\n",
    "\n",
    "w2 = Label(root, text=\" Prepared By : Chirag Aggarwal\", fg=\"Pink\", bg=\"Ivory\")\n",
    "w2.config(font=(\"Times\",30,\"bold italic\"))\n",
    "w2.grid(row=3, column=2, columnspan=30, padx=100)\n",
    "\n",
    "NameLb1 = Label(root, text=\"\")\n",
    "NameLb1.config(font=(\"Elephant\", 20))\n",
    "NameLb1.grid(row=5, column=2, pady=10,  sticky=W)\n",
    "\n",
    "S0Lb = Label(root,  text=\"Name of the patient\", fg=\"Black\", bg=\"skyblue\")\n",
    "S0Lb.config(font=(\"Fraktur\", 15))\n",
    "S0Lb.grid(row=6, column=2, pady=10 , sticky=W)\n",
    "\n",
    "S01Lb = Label(root,  text=\"Age of the patient\", fg=\"Black\", bg=\"grey\")\n",
    "S01Lb.config(font=(\"Elephant\", 15))\n",
    "S01Lb.grid(row=7, column=2, pady=10 , sticky=W)\n",
    "\n",
    "S1Lb = Label(root,  text=\"Symptom 1\",fg=\"Black\", bg=\"red\")\n",
    "S1Lb.config(font=(\"Elephant\", 15))\n",
    "S1Lb.grid(row=8, column=2, pady=10 , sticky=W)\n",
    "\n",
    "S2Lb = Label(root,  text=\"Symptom 2\",fg=\"Black\", bg=\"blue\")\n",
    "S2Lb.config(font=(\"Elephant\", 15))\n",
    "S2Lb.grid(row=9, column=2, pady=10, sticky=W)\n",
    "\n",
    "S3Lb = Label(root,  text=\"Symptom 3\",fg=\"Black\", bg=\"orange\")\n",
    "S3Lb.config(font=(\"Elephant\", 15))\n",
    "S3Lb.grid(row=10, column=2, pady=10, sticky=W)\n",
    "\n",
    "S4Lb = Label(root,  text=\"Symptom 4\",fg=\"Black\", bg=\"pink\")\n",
    "S4Lb.config(font=(\"Elephant\", 15))\n",
    "S4Lb.grid(row=11, column=2, pady=10, sticky=W)\n",
    "\n",
    "S5Lb = Label(root,  text=\"Symptom 5\",fg=\"Black\", bg=\"yellow\")\n",
    "S5Lb.config(font=(\"Elephant\", 15))\n",
    "S5Lb.grid(row=12, column=2, pady=10, sticky=W)\n",
    "\n",
    "lr = Button(root, text=\"Predict\",height=2, width=20,bg=\"orange\", command=message)\n",
    "lr.config(font=(\"Elephant\", 15))\n",
    "lr.grid(row=15, column=2,pady=20)\n",
    "\n",
    "OPTIONS = sorted(l1)\n",
    "\n",
    "S1En = OptionMenu(root, Symptom1,*OPTIONS)\n",
    "S1En.grid(row=8, column=3)\n",
    "\n",
    "S2En = OptionMenu(root, Symptom2,*OPTIONS)\n",
    "S2En.grid(row=9, column=3)\n",
    "\n",
    "S3En = OptionMenu(root, Symptom3,*OPTIONS)\n",
    "S3En.grid(row=10, column=3)\n",
    "\n",
    "S4En = OptionMenu(root, Symptom4,*OPTIONS)\n",
    "S4En.grid(row=11, column=3)\n",
    "\n",
    "S5En = OptionMenu(root, Symptom5,*OPTIONS)\n",
    "S5En.grid(row=12, column=3)\n",
    "\n",
    "NameLb = Label(root, text=\"\")\n",
    "NameLb.config(font=(\"Elephant\", 20))\n",
    "NameLb.grid(row=14, column=2, pady=10,  sticky=W)\n",
    "\n",
    "NameLb = Label(root, text=\"\")\n",
    "NameLb.config(font=(\"Elephant\", 15))\n",
    "NameLb.grid(row=18, column=2, pady=10,  sticky=W)\n",
    "\n",
    "ex = Button(root,text=\"Exit System\", command=Exit,bg=\"yellow\",fg=\"purple\",width=15)\n",
    "ex.config(font=(\"Times\",15,\"bold italic\"))\n",
    "ex.grid(row=11,column=4,padx=10)\n",
    "\n",
    "rs = Button(root,text=\"Reset Inputs\", command=Reset,bg=\"yellow\",fg=\"purple\",width=15)\n",
    "rs.config(font=(\"Times\",15,\"bold italic\"))\n",
    "rs.grid(row=10,column=4,padx=10)\n",
    "\n",
    "t3 = Text(root, height=2, width=30,fg=\"Black\", bg=\"yellow\")\n",
    "t3.config(font=(\"Elephant\", 20))\n",
    "t3.grid(row=18, column=2, padx=10)\n",
    "\n",
    "t4 = Text(root, height=1, width=20,fg=\"Black\", bg=\"pink\")\n",
    "t4.config(font=(\"Elephant\", 20))\n",
    "t4.grid(row=6, column=3, padx=10)\n",
    "\n",
    "t5 = Text(root, height=1, width=20,fg=\"Black\", bg=\"red\")\n",
    "t5.config(font=(\"Elephant\", 20))\n",
    "t5.grid(row=7, column=3, padx=10)\n",
    "\n",
    "root.mainloop()"
   ]
  }
 ],
 "metadata": {
  "kernelspec": {
   "display_name": "Python 3 (ipykernel)",
   "language": "python",
   "name": "python3"
  },
  "language_info": {
   "codemirror_mode": {
    "name": "ipython",
    "version": 3
   },
   "file_extension": ".py",
   "mimetype": "text/x-python",
   "name": "python",
   "nbconvert_exporter": "python",
   "pygments_lexer": "ipython3",
   "version": "3.9.7"
  }
 },
 "nbformat": 4,
 "nbformat_minor": 5
}
